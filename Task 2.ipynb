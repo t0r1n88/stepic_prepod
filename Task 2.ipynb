{
 "cells": [
  {
   "cell_type": "markdown",
   "metadata": {
    "colab_type": "text",
    "id": "m2Rz-BeQHdc6",
    "nteract": {
     "transient": {
      "deleting": false
     }
    }
   },
   "source": [
    "# Важно!\n",
    "\n",
    "Придерживайтесь эталонного вывода в коде каждого задания, чтобы избежать расхождений в трактовках условий задания."
   ]
  },
  {
   "cell_type": "code",
   "execution_count": 1,
   "metadata": {
    "colab": {},
    "colab_type": "code",
    "execution": {
     "iopub.execute_input": "2020-06-02T07:55:50.262Z",
     "iopub.status.busy": "2020-06-02T07:55:50.257Z",
     "iopub.status.idle": "2020-06-02T07:55:51.173Z",
     "shell.execute_reply": "2020-06-02T07:55:51.180Z"
    },
    "id": "mO0X92xdt8AI"
   },
   "outputs": [],
   "source": [
    "# загрузим библиотеки\n",
    "import numpy as np\n",
    "import pandas as pd"
   ]
  },
  {
   "cell_type": "markdown",
   "metadata": {
    "colab_type": "text",
    "id": "RvAr660Dtkzm"
   },
   "source": [
    "## Задание 1\n",
    "\n",
    "Создайте массив массив из 100 элементов (от 1 до 100), переформатируйте в формат (10 * 10), сделайте слайсинг с шагом 2 по каждой оси."
   ]
  },
  {
   "cell_type": "code",
   "execution_count": 2,
   "metadata": {},
   "outputs": [
    {
     "name": "stdout",
     "output_type": "stream",
     "text": [
      "[  1   2   3   4   5   6   7   8   9  10  11  12  13  14  15  16  17  18\n",
      "  19  20  21  22  23  24  25  26  27  28  29  30  31  32  33  34  35  36\n",
      "  37  38  39  40  41  42  43  44  45  46  47  48  49  50  51  52  53  54\n",
      "  55  56  57  58  59  60  61  62  63  64  65  66  67  68  69  70  71  72\n",
      "  73  74  75  76  77  78  79  80  81  82  83  84  85  86  87  88  89  90\n",
      "  91  92  93  94  95  96  97  98  99 100]\n",
      "[[  1   2   3   4   5   6   7   8   9  10]\n",
      " [ 11  12  13  14  15  16  17  18  19  20]\n",
      " [ 21  22  23  24  25  26  27  28  29  30]\n",
      " [ 31  32  33  34  35  36  37  38  39  40]\n",
      " [ 41  42  43  44  45  46  47  48  49  50]\n",
      " [ 51  52  53  54  55  56  57  58  59  60]\n",
      " [ 61  62  63  64  65  66  67  68  69  70]\n",
      " [ 71  72  73  74  75  76  77  78  79  80]\n",
      " [ 81  82  83  84  85  86  87  88  89  90]\n",
      " [ 91  92  93  94  95  96  97  98  99 100]]\n",
      "[[ 1  3  5  7  9]\n",
      " [21 23 25 27 29]\n",
      " [41 43 45 47 49]\n",
      " [61 63 65 67 69]\n",
      " [81 83 85 87 89]]\n"
     ]
    }
   ],
   "source": [
    "# Создаем массив numpy\n",
    "a = np.arange(1,101)\n",
    "print(a)\n",
    "# Переформатируем его\n",
    "reshaped_a= a.reshape(10,10)\n",
    "print(reshaped_a)\n",
    "# Сделаем слайсинг с шагом 2 по каждой оси\n",
    "slice_reshaped_a = reshaped_a[::2,::2]\n",
    "print(slice_reshaped_a)"
   ]
  },
  {
   "cell_type": "markdown",
   "metadata": {
    "colab_type": "text",
    "id": "CsoFLFbutmQE"
   },
   "source": [
    "## Задание 2\n",
    "\n",
    "Написать функцию, которая по заданной длине последовательности находит среднее арифметическое ее членов. (Для соответсвия примеру вывода используйте длину length = 100_000_000)\n",
    "\n",
    "Реализуйте задачу с и без помощи numpy, сравните время выполнения\n",
    "\n",
    "Используйте выражение \n",
    "\n",
    "\n",
    "`%%time` \n",
    "\n",
    "в первой строчке ячейки кода для отображения времени выполнения ячейки\n",
    "\n",
    "Если возникамют ошибки с %%time - используйте код\n",
    "\n",
    "`\n",
    "from datetime import datetime\n",
    "start_time = datetime.now()\n",
    "---ваш код---\n",
    "print(datetime.now() - start_time)\n",
    "`"
   ]
  },
  {
   "cell_type": "code",
   "execution_count": 3,
   "metadata": {
    "colab": {},
    "colab_type": "code",
    "execution": {
     "iopub.execute_input": "2020-06-02T07:59:58.667Z",
     "iopub.status.busy": "2020-06-02T07:59:58.665Z",
     "iopub.status.idle": "2020-06-02T07:59:58.673Z",
     "shell.execute_reply": "2020-06-02T07:59:58.675Z"
    },
    "id": "ykruF0HWtmW3",
    "outputId": "d86fccbf-d595-4b29-c22d-110d03445818"
   },
   "outputs": [
    {
     "name": "stdout",
     "output_type": "stream",
     "text": [
      "[       0        1        2 ... 99999997 99999998 99999999]\n",
      "49999999.5\n",
      "Wall time: 287 ms\n"
     ]
    }
   ],
   "source": [
    "%%time\n",
    "# решение с использованием numpy\n",
    "# для оценки времени исоплнения блока\n",
    "# зададим длину нашей последовательности\n",
    "length = 100_000_000\n",
    "\n",
    "# ваш код тут\n",
    "# Создаем последовательность заданой длины\n",
    "sequence = np.arange(length)\n",
    "print(sequence)\n",
    "\n",
    "# Определяем среднее арифметическое\n",
    "print(np.mean((sequence)))\n"
   ]
  },
  {
   "cell_type": "code",
   "execution_count": 4,
   "metadata": {
    "colab": {},
    "colab_type": "code",
    "execution": {
     "iopub.execute_input": "2020-06-02T08:02:34.017Z",
     "iopub.status.busy": "2020-06-02T08:02:34.015Z",
     "iopub.status.idle": "2020-06-02T08:02:34.022Z",
     "shell.execute_reply": "2020-06-02T08:02:34.025Z"
    },
    "id": "LKGnz5iVuA7V",
    "outputId": "0ef655de-fac9-4920-e7a6-fe058720d9a1"
   },
   "outputs": [
    {
     "name": "stdout",
     "output_type": "stream",
     "text": [
      "49999999.5\n",
      "Wall time: 3.63 s\n"
     ]
    }
   ],
   "source": [
    "%%time\n",
    "# решение без использования numpy\n",
    "# для оценки времени исоплнения блока\n",
    "length = 100_000_000\n",
    "# ваш код тут\n",
    "# Создаем последовательность заданой длины\n",
    "# Создатели задания не упомянули проблему что если не указывать тип создаваемого массива при большой длине, а оставить его int то такой код будет считать неправильно\n",
    "# из за переполнения int\n",
    "# sequence = np.arange(length)\n",
    "# summa = sum(sequence)\n",
    "# print(summa/len(sequence))\n",
    "#sequence = np.arange(length,dtype=np.float64)\n",
    "sequence = range(length)\n",
    "# ваш код тут\n",
    "# Сумируем последовательность с помощью встроенной функции python\n",
    "summa = sum(sequence)\n",
    "print(summa/len(sequence))\n"
   ]
  },
  {
   "cell_type": "markdown",
   "metadata": {
    "colab_type": "text",
    "id": "KBSohg6XHddU",
    "nteract": {
     "transient": {
      "deleting": false
     }
    }
   },
   "source": [
    "Если все сделано верно, то можно заметить, что у нампай скорость выполнения (total: 546 ms) заметно выше питона (total: 16.2 s)\n",
    "Странно у меня получились гораздо меньшие цифры numpy 209 ms а чистый питон  2.78 s."
   ]
  },
  {
   "cell_type": "markdown",
   "metadata": {
    "colab_type": "text",
    "id": "yBYPAaYJtmdW"
   },
   "source": [
    "## Задание 3\n",
    "\n",
    "Задан Series объект s, найти индекс первого элемента отсортированного s, где значения больше 5\n",
    "\n",
    "Изначальный код:\n",
    "\n",
    "`\n",
    "r = np.random.RandomState(1)\n",
    "s=pd.Series(r.uniform(0, 10, 100))\n",
    "`"
   ]
  },
  {
   "cell_type": "code",
   "execution_count": 5,
   "metadata": {
    "colab": {},
    "colab_type": "code",
    "execution": {
     "iopub.execute_input": "2020-06-02T08:04:21.808Z",
     "iopub.status.busy": "2020-06-02T08:04:21.806Z",
     "iopub.status.idle": "2020-06-02T08:04:21.813Z",
     "shell.execute_reply": "2020-06-02T08:04:21.816Z"
    },
    "id": "gqiIWcIctmja",
    "outputId": "aef7e3c8-91ca-49a0-da64-f236e57438b8"
   },
   "outputs": [
    {
     "name": "stdout",
     "output_type": "stream",
     "text": [
      "67\n"
     ]
    }
   ],
   "source": [
    "# задано изначально\n",
    "# генерируем один и тот же список\n",
    "r = np.random.RandomState(1)\n",
    "s=pd.Series(r.uniform(0, 10, 100))\n",
    "\n",
    "# ваш код тут\n",
    "# Создаем маску\n",
    "mask = s > 5\n",
    "# Сортируем используя маску\n",
    "sorted_s = s[mask].sort_values()\n",
    "# Выводим первый индекс полученной серии\n",
    "print(sorted_s.index[0])"
   ]
  },
  {
   "cell_type": "markdown",
   "metadata": {
    "colab_type": "text",
    "id": "ymT-Z-djtmpO"
   },
   "source": [
    "## Задание 4\n",
    "\n",
    "Предположим, что мы наблюдаем за некоторым признаком нашего датасета, но в данных есть пропуски. Ваша задача: реализовать алгоритм заполнения пропущенных значений последним известным с помощью средств python и pandas. (подсказка: вам может помочь функция np.isnan(), которая возвращает True, если число - nan. Для реализации с пандас стоит посмотреть на метод .fillna).\n",
    "\n",
    "Изначальный код с инициализацией такого датасета предоставлен. Важно! Графики решений других слушателей могут незначительно отличаться из-за генерации случайных пропусков.\n",
    "\n",
    "\n",
    "```\n",
    "\n",
    "# импортируем библиотеку для создания шума\n",
    "import random\n",
    "# библиотека для визуализации\n",
    "import matplotlib.pyplot as plt\n",
    "\n",
    "# создадим наши данные и добавим к каждой точке синусоиды случайный шум\n",
    "a = np.linspace(0, 25, 100)\n",
    "a = np.sin(a) + [random.gauss(0, 0.2) for i in range(len(a))]\n",
    "\n",
    "# создадим 10 случайных пропусков\n",
    "for i in range(10):\n",
    "    a[random.randint(0, len(a) - 1)] = None\n",
    "\n",
    "# ваш код тут\n",
    "# список а содержит пропуски, его надо восстановить\n",
    "\n",
    "# ВАШ КОД ТУТ\n",
    "\n",
    "# отобразим\n",
    "plt.plot(a)\n",
    "\n",
    "```"
   ]
  },
  {
   "cell_type": "markdown",
   "metadata": {
    "colab_type": "text",
    "id": "_xXEYRF5Hddd",
    "nteract": {
     "transient": {
      "deleting": false
     }
    }
   },
   "source": [
    "Реализация используя python"
   ]
  },
  {
   "cell_type": "code",
   "execution_count": 6,
   "metadata": {
    "colab": {},
    "colab_type": "code",
    "execution": {
     "iopub.execute_input": "2020-06-02T08:09:17.139Z",
     "iopub.status.busy": "2020-06-02T08:09:17.136Z",
     "iopub.status.idle": "2020-06-02T08:09:17.204Z",
     "shell.execute_reply": "2020-06-02T08:09:17.208Z"
    },
    "id": "HUR8BE7Etmuj",
    "outputId": "50dcc0d0-ec2e-4ca8-f9ef-c66fe8b202b0"
   },
   "outputs": [
    {
     "data": {
      "image/png": "[encoded data removed]",
      "text/plain": [
       "<Figure size 432x288 with 1 Axes>"
      ]
     },
     "metadata": {
      "needs_background": "light"
     },
     "output_type": "display_data"
    }
   ],
   "source": [
    "# импортируем библиотеку для создания шума\n",
    "import random\n",
    "# библиотека для визуализации\n",
    "import matplotlib.pyplot as plt\n",
    "\n",
    "# создадим наши данные и добавим к каждой точке синусоиды случайный шум\n",
    "a = np.linspace(0, 25, 100)\n",
    "a = np.sin(a) + [random.gauss(0, 0.2) for i in range(len(a))]\n",
    "\n",
    "# создадим 10 случайных пропусков\n",
    "for i in range(10):\n",
    "    a[random.randint(0, len(a) - 1)] = None\n",
    "\n",
    "# ваш код тут\n",
    "# список а содержит пропуски, его надо восстановить\n",
    "# Создаем цикл в котором перебираем значения\n",
    "  \n",
    "# отобразим график с пропусками\n",
    "plt.plot(a);"
   ]
  },
  {
   "cell_type": "code",
   "execution_count": 7,
   "metadata": {},
   "outputs": [
    {
     "data": {
      "image/png": "[encoded data removed]",
      "text/plain": [
       "<Figure size 432x288 with 1 Axes>"
      ]
     },
     "metadata": {
      "needs_background": "light"
     },
     "output_type": "display_data"
    }
   ],
   "source": [
    "# А теперь используя python\n",
    "for i in range(1,len(a)):\n",
    "    # Если значени Nan, то заменяем его на предыдущее значение в списке.Перебор начинается с элемента с индексом 1,\n",
    "    # чтобы избежать ошибки если Nan окажется на нулевом индексе.\n",
    "    if np.isnan(a[i]):\n",
    "        a[i] = a[i-1]   \n",
    "plt.plot(a);"
   ]
  },
  {
   "cell_type": "markdown",
   "metadata": {
    "colab_type": "text",
    "id": "ISlMwxNYHddj",
    "nteract": {
     "transient": {
      "deleting": false
     }
    }
   },
   "source": [
    "Реализация через matplotlib"
   ]
  },
  {
   "cell_type": "code",
   "execution_count": 9,
   "metadata": {
    "colab": {},
    "colab_type": "code",
    "execution": {
     "iopub.execute_input": "2020-06-02T08:10:04.814Z",
     "iopub.status.busy": "2020-06-02T08:10:04.810Z",
     "iopub.status.idle": "2020-06-02T08:10:04.865Z",
     "shell.execute_reply": "2020-06-02T08:10:04.874Z"
    },
    "id": "HXzNGQOBHddj",
    "jupyter": {
     "outputs_hidden": false,
     "source_hidden": false
    },
    "nteract": {
     "transient": {
      "deleting": false
     }
    },
    "outputId": "70893c3e-ed59-4acf-90fa-89dc8610dc41"
   },
   "outputs": [
    {
     "data": {
      "text/plain": [
       "[<matplotlib.lines.Line2D at 0x25c03014cc8>]"
      ]
     },
     "execution_count": 9,
     "metadata": {},
     "output_type": "execute_result"
    },
    {
     "data": {
      "image/png": "[encoded data removed]",
      "text/plain": [
       "<Figure size 432x288 with 1 Axes>"
      ]
     },
     "metadata": {
      "needs_background": "light"
     },
     "output_type": "display_data"
    }
   ],
   "source": [
    "# импортируем библиотеку для создания шума\n",
    "import random\n",
    "# библиотека для визуализации\n",
    "import matplotlib.pyplot as plt\n",
    "\n",
    "# создадим наши данные и добавим к каждой точке синусоиды случайный шум\n",
    "a = np.linspace(0, 25, 100)\n",
    "a = np.sin(a) + [random.gauss(0, 0.2) for i in range(len(a))]\n",
    "\n",
    "# создадим 10 случайных пропусков\n",
    "for i in range(10):\n",
    "    a[random.randint(0, len(a) - 1)] = None\n",
    "\n",
    "# создадим датафрейм из списка а, он содержит пропуски\n",
    "df = pd.DataFrame({'target':a})\n",
    "\n",
    "# ВАШ КОД ТУТ\n",
    "\n",
    "# отобразим c пропусками\n",
    "plt.plot(df.target.values)"
   ]
  },
  {
   "cell_type": "code",
   "execution_count": 10,
   "metadata": {},
   "outputs": [
    {
     "data": {
      "image/png": "[encoded data removed]",
      "text/plain": [
       "<Figure size 432x288 with 1 Axes>"
      ]
     },
     "metadata": {
      "needs_background": "light"
     },
     "output_type": "display_data"
    }
   ],
   "source": [
    "# Отобразим без пропусков\n",
    "df.fillna(0,inplace=True)\n",
    "plt.plot(df.target.values);"
   ]
  },
  {
   "cell_type": "markdown",
   "metadata": {
    "colab_type": "text",
    "id": "lkk7fksLtm0p"
   },
   "source": [
    "## Задание 5\n",
    "\n",
    "Имеется небольшой игрушечный датафрейм, в котором необходимо провести несколько типов фильтраций (ответы ищите в решениях) и отобразить результат:\n",
    "\n",
    "* всех, кто старше 40\n",
    "* всех, кто имеет доход выше среднего по датасету\n",
    "* всех, кто имеет доход выше среднего по датасету, но надежность ниже среднего по датасету\n",
    "\n",
    "создать новые столбцы:\n",
    "\n",
    "* важность клиента = доход * надежность\n",
    "* возможная долгосрочность клиента = важность клиента * (средний возраст по датасету - возраст клиента)\n",
    "\n",
    "`подсказка: двойные условия записываются так: (условие 1) & (условие 2)`\n",
    "\n",
    "\n",
    "** примечание: столбцы не имеют отношения к реальным формулам или моделям, они необходимы только для наглядности"
   ]
  },
  {
   "cell_type": "code",
   "execution_count": 17,
   "metadata": {
    "colab": {},
    "colab_type": "code",
    "execution": {
     "iopub.execute_input": "2020-06-02T08:11:06.827Z",
     "iopub.status.busy": "2020-06-02T08:11:06.824Z",
     "iopub.status.idle": "2020-06-02T08:11:06.837Z",
     "shell.execute_reply": "2020-06-02T08:11:06.848Z"
    },
    "id": "E3PkAP5atm7L",
    "outputId": "21d62b92-90a2-4e9d-ac2e-581de3d3498c"
   },
   "outputs": [
    {
     "data": {
      "text/html": [
       "<div>\n",
       "<style scoped>\n",
       "    .dataframe tbody tr th:only-of-type {\n",
       "        vertical-align: middle;\n",
       "    }\n",
       "\n",
       "    .dataframe tbody tr th {\n",
       "        vertical-align: top;\n",
       "    }\n",
       "\n",
       "    .dataframe thead th {\n",
       "        text-align: right;\n",
       "    }\n",
       "</style>\n",
       "<table border=\"1\" class=\"dataframe\">\n",
       "  <thead>\n",
       "    <tr style=\"text-align: right;\">\n",
       "      <th></th>\n",
       "      <th>имя</th>\n",
       "      <th>возраст</th>\n",
       "      <th>доход</th>\n",
       "      <th>надежность клиента (0..1)</th>\n",
       "      <th>пол</th>\n",
       "    </tr>\n",
       "  </thead>\n",
       "  <tbody>\n",
       "    <tr>\n",
       "      <th>0</th>\n",
       "      <td>Петя</td>\n",
       "      <td>45</td>\n",
       "      <td>100000</td>\n",
       "      <td>0.65</td>\n",
       "      <td>муж</td>\n",
       "    </tr>\n",
       "    <tr>\n",
       "      <th>1</th>\n",
       "      <td>Вася</td>\n",
       "      <td>26</td>\n",
       "      <td>80000</td>\n",
       "      <td>0.74</td>\n",
       "      <td>муж</td>\n",
       "    </tr>\n",
       "    <tr>\n",
       "      <th>2</th>\n",
       "      <td>Аня</td>\n",
       "      <td>41</td>\n",
       "      <td>150000</td>\n",
       "      <td>0.87</td>\n",
       "      <td>жен</td>\n",
       "    </tr>\n",
       "    <tr>\n",
       "      <th>3</th>\n",
       "      <td>Света</td>\n",
       "      <td>21</td>\n",
       "      <td>60000</td>\n",
       "      <td>0.68</td>\n",
       "      <td>жен</td>\n",
       "    </tr>\n",
       "  </tbody>\n",
       "</table>\n",
       "</div>"
      ],
      "text/plain": [
       "     имя  возраст   доход  надежность клиента (0..1)  пол\n",
       "0   Петя       45  100000                       0.65  муж\n",
       "1   Вася       26   80000                       0.74  муж\n",
       "2    Аня       41  150000                       0.87  жен\n",
       "3  Света       21   60000                       0.68  жен"
      ]
     },
     "execution_count": 17,
     "metadata": {},
     "output_type": "execute_result"
    }
   ],
   "source": [
    "# создадим тестовый датасет\n",
    "df = pd.DataFrame({\n",
    "    'имя': ['Петя', 'Вася', 'Аня', 'Света'],\n",
    "    'возраст': [45, 26, 41 , 21],\n",
    "    'доход': [100000, 80000, 150000, 60000],\n",
    "    'надежность клиента (0..1)': [0.65, 0.74, 0.87, 0.68],\n",
    "    'пол': ['муж', 'муж', 'жен', 'жен']},\n",
    "    index=[0, 1, 2, 3])\n",
    "\n",
    "df"
   ]
  },
  {
   "cell_type": "code",
   "execution_count": 15,
   "metadata": {},
   "outputs": [
    {
     "data": {
      "text/html": [
       "<div>\n",
       "<style scoped>\n",
       "    .dataframe tbody tr th:only-of-type {\n",
       "        vertical-align: middle;\n",
       "    }\n",
       "\n",
       "    .dataframe tbody tr th {\n",
       "        vertical-align: top;\n",
       "    }\n",
       "\n",
       "    .dataframe thead th {\n",
       "        text-align: right;\n",
       "    }\n",
       "</style>\n",
       "<table border=\"1\" class=\"dataframe\">\n",
       "  <thead>\n",
       "    <tr style=\"text-align: right;\">\n",
       "      <th></th>\n",
       "      <th>имя</th>\n",
       "      <th>возраст</th>\n",
       "      <th>доход</th>\n",
       "      <th>надежность клиента (0..1)</th>\n",
       "      <th>пол</th>\n",
       "    </tr>\n",
       "  </thead>\n",
       "  <tbody>\n",
       "    <tr>\n",
       "      <th>0</th>\n",
       "      <td>Петя</td>\n",
       "      <td>45</td>\n",
       "      <td>100000</td>\n",
       "      <td>0.65</td>\n",
       "      <td>муж</td>\n",
       "    </tr>\n",
       "    <tr>\n",
       "      <th>2</th>\n",
       "      <td>Аня</td>\n",
       "      <td>41</td>\n",
       "      <td>150000</td>\n",
       "      <td>0.87</td>\n",
       "      <td>жен</td>\n",
       "    </tr>\n",
       "  </tbody>\n",
       "</table>\n",
       "</div>"
      ],
      "text/plain": [
       "    имя  возраст   доход  надежность клиента (0..1)  пол\n",
       "0  Петя       45  100000                       0.65  муж\n",
       "2   Аня       41  150000                       0.87  жен"
      ]
     },
     "execution_count": 15,
     "metadata": {},
     "output_type": "execute_result"
    }
   ],
   "source": [
    "# все, кто старше 40\n",
    "df[df['возраст']>=40]"
   ]
  },
  {
   "cell_type": "code",
   "execution_count": 16,
   "metadata": {},
   "outputs": [
    {
     "data": {
      "text/html": [
       "<div>\n",
       "<style scoped>\n",
       "    .dataframe tbody tr th:only-of-type {\n",
       "        vertical-align: middle;\n",
       "    }\n",
       "\n",
       "    .dataframe tbody tr th {\n",
       "        vertical-align: top;\n",
       "    }\n",
       "\n",
       "    .dataframe thead th {\n",
       "        text-align: right;\n",
       "    }\n",
       "</style>\n",
       "<table border=\"1\" class=\"dataframe\">\n",
       "  <thead>\n",
       "    <tr style=\"text-align: right;\">\n",
       "      <th></th>\n",
       "      <th>имя</th>\n",
       "      <th>возраст</th>\n",
       "      <th>доход</th>\n",
       "      <th>надежность клиента (0..1)</th>\n",
       "      <th>пол</th>\n",
       "    </tr>\n",
       "  </thead>\n",
       "  <tbody>\n",
       "    <tr>\n",
       "      <th>0</th>\n",
       "      <td>Петя</td>\n",
       "      <td>45</td>\n",
       "      <td>100000</td>\n",
       "      <td>0.65</td>\n",
       "      <td>муж</td>\n",
       "    </tr>\n",
       "    <tr>\n",
       "      <th>2</th>\n",
       "      <td>Аня</td>\n",
       "      <td>41</td>\n",
       "      <td>150000</td>\n",
       "      <td>0.87</td>\n",
       "      <td>жен</td>\n",
       "    </tr>\n",
       "  </tbody>\n",
       "</table>\n",
       "</div>"
      ],
      "text/plain": [
       "    имя  возраст   доход  надежность клиента (0..1)  пол\n",
       "0  Петя       45  100000                       0.65  муж\n",
       "2   Аня       41  150000                       0.87  жен"
      ]
     },
     "execution_count": 16,
     "metadata": {},
     "output_type": "execute_result"
    }
   ],
   "source": [
    "# все, кто имеет доход выше среднего по датасету\n",
    "df[df['доход']> df['доход'].mean()]"
   ]
  },
  {
   "cell_type": "code",
   "execution_count": 18,
   "metadata": {},
   "outputs": [
    {
     "data": {
      "text/html": [
       "<div>\n",
       "<style scoped>\n",
       "    .dataframe tbody tr th:only-of-type {\n",
       "        vertical-align: middle;\n",
       "    }\n",
       "\n",
       "    .dataframe tbody tr th {\n",
       "        vertical-align: top;\n",
       "    }\n",
       "\n",
       "    .dataframe thead th {\n",
       "        text-align: right;\n",
       "    }\n",
       "</style>\n",
       "<table border=\"1\" class=\"dataframe\">\n",
       "  <thead>\n",
       "    <tr style=\"text-align: right;\">\n",
       "      <th></th>\n",
       "      <th>имя</th>\n",
       "      <th>возраст</th>\n",
       "      <th>доход</th>\n",
       "      <th>надежность клиента (0..1)</th>\n",
       "      <th>пол</th>\n",
       "    </tr>\n",
       "  </thead>\n",
       "  <tbody>\n",
       "    <tr>\n",
       "      <th>0</th>\n",
       "      <td>Петя</td>\n",
       "      <td>45</td>\n",
       "      <td>100000</td>\n",
       "      <td>0.65</td>\n",
       "      <td>муж</td>\n",
       "    </tr>\n",
       "  </tbody>\n",
       "</table>\n",
       "</div>"
      ],
      "text/plain": [
       "    имя  возраст   доход  надежность клиента (0..1)  пол\n",
       "0  Петя       45  100000                       0.65  муж"
      ]
     },
     "execution_count": 18,
     "metadata": {},
     "output_type": "execute_result"
    }
   ],
   "source": [
    "# все, кто имеет доход выше среднего по датасету, но надежность ниже среднего по датасету\n",
    "df[(df['доход'] > df['доход'].mean()) & (df['надежность клиента (0..1)'] < df['надежность клиента (0..1)'].mean())]"
   ]
  },
  {
   "cell_type": "code",
   "execution_count": 22,
   "metadata": {},
   "outputs": [
    {
     "data": {
      "text/html": [
       "<div>\n",
       "<style scoped>\n",
       "    .dataframe tbody tr th:only-of-type {\n",
       "        vertical-align: middle;\n",
       "    }\n",
       "\n",
       "    .dataframe tbody tr th {\n",
       "        vertical-align: top;\n",
       "    }\n",
       "\n",
       "    .dataframe thead th {\n",
       "        text-align: right;\n",
       "    }\n",
       "</style>\n",
       "<table border=\"1\" class=\"dataframe\">\n",
       "  <thead>\n",
       "    <tr style=\"text-align: right;\">\n",
       "      <th></th>\n",
       "      <th>имя</th>\n",
       "      <th>возраст</th>\n",
       "      <th>доход</th>\n",
       "      <th>надежность клиента (0..1)</th>\n",
       "      <th>пол</th>\n",
       "      <th>важность клиента</th>\n",
       "    </tr>\n",
       "  </thead>\n",
       "  <tbody>\n",
       "    <tr>\n",
       "      <th>0</th>\n",
       "      <td>Петя</td>\n",
       "      <td>45</td>\n",
       "      <td>100000</td>\n",
       "      <td>0.65</td>\n",
       "      <td>муж</td>\n",
       "      <td>65000.0</td>\n",
       "    </tr>\n",
       "    <tr>\n",
       "      <th>1</th>\n",
       "      <td>Вася</td>\n",
       "      <td>26</td>\n",
       "      <td>80000</td>\n",
       "      <td>0.74</td>\n",
       "      <td>муж</td>\n",
       "      <td>59200.0</td>\n",
       "    </tr>\n",
       "    <tr>\n",
       "      <th>2</th>\n",
       "      <td>Аня</td>\n",
       "      <td>41</td>\n",
       "      <td>150000</td>\n",
       "      <td>0.87</td>\n",
       "      <td>жен</td>\n",
       "      <td>130500.0</td>\n",
       "    </tr>\n",
       "    <tr>\n",
       "      <th>3</th>\n",
       "      <td>Света</td>\n",
       "      <td>21</td>\n",
       "      <td>60000</td>\n",
       "      <td>0.68</td>\n",
       "      <td>жен</td>\n",
       "      <td>40800.0</td>\n",
       "    </tr>\n",
       "  </tbody>\n",
       "</table>\n",
       "</div>"
      ],
      "text/plain": [
       "     имя  возраст   доход  надежность клиента (0..1)  пол  важность клиента\n",
       "0   Петя       45  100000                       0.65  муж           65000.0\n",
       "1   Вася       26   80000                       0.74  муж           59200.0\n",
       "2    Аня       41  150000                       0.87  жен          130500.0\n",
       "3  Света       21   60000                       0.68  жен           40800.0"
      ]
     },
     "execution_count": 22,
     "metadata": {},
     "output_type": "execute_result"
    }
   ],
   "source": [
    "# Создать новый столбец важность клиента = доход * надежность\n",
    "df['важность клиента'] = df['доход']*df['надежность клиента (0..1)']\n",
    "df"
   ]
  },
  {
   "cell_type": "code",
   "execution_count": 24,
   "metadata": {},
   "outputs": [
    {
     "data": {
      "text/html": [
       "<div>\n",
       "<style scoped>\n",
       "    .dataframe tbody tr th:only-of-type {\n",
       "        vertical-align: middle;\n",
       "    }\n",
       "\n",
       "    .dataframe tbody tr th {\n",
       "        vertical-align: top;\n",
       "    }\n",
       "\n",
       "    .dataframe thead th {\n",
       "        text-align: right;\n",
       "    }\n",
       "</style>\n",
       "<table border=\"1\" class=\"dataframe\">\n",
       "  <thead>\n",
       "    <tr style=\"text-align: right;\">\n",
       "      <th></th>\n",
       "      <th>имя</th>\n",
       "      <th>возраст</th>\n",
       "      <th>доход</th>\n",
       "      <th>надежность клиента (0..1)</th>\n",
       "      <th>пол</th>\n",
       "      <th>важность клиента</th>\n",
       "      <th>возможная долгосрочность клиента</th>\n",
       "    </tr>\n",
       "  </thead>\n",
       "  <tbody>\n",
       "    <tr>\n",
       "      <th>0</th>\n",
       "      <td>Петя</td>\n",
       "      <td>45</td>\n",
       "      <td>100000</td>\n",
       "      <td>0.65</td>\n",
       "      <td>муж</td>\n",
       "      <td>65000.0</td>\n",
       "      <td>-763750.0</td>\n",
       "    </tr>\n",
       "    <tr>\n",
       "      <th>1</th>\n",
       "      <td>Вася</td>\n",
       "      <td>26</td>\n",
       "      <td>80000</td>\n",
       "      <td>0.74</td>\n",
       "      <td>муж</td>\n",
       "      <td>59200.0</td>\n",
       "      <td>429200.0</td>\n",
       "    </tr>\n",
       "    <tr>\n",
       "      <th>2</th>\n",
       "      <td>Аня</td>\n",
       "      <td>41</td>\n",
       "      <td>150000</td>\n",
       "      <td>0.87</td>\n",
       "      <td>жен</td>\n",
       "      <td>130500.0</td>\n",
       "      <td>-1011375.0</td>\n",
       "    </tr>\n",
       "    <tr>\n",
       "      <th>3</th>\n",
       "      <td>Света</td>\n",
       "      <td>21</td>\n",
       "      <td>60000</td>\n",
       "      <td>0.68</td>\n",
       "      <td>жен</td>\n",
       "      <td>40800.0</td>\n",
       "      <td>499800.0</td>\n",
       "    </tr>\n",
       "  </tbody>\n",
       "</table>\n",
       "</div>"
      ],
      "text/plain": [
       "     имя  возраст   доход  надежность клиента (0..1)  пол  важность клиента  \\\n",
       "0   Петя       45  100000                       0.65  муж           65000.0   \n",
       "1   Вася       26   80000                       0.74  муж           59200.0   \n",
       "2    Аня       41  150000                       0.87  жен          130500.0   \n",
       "3  Света       21   60000                       0.68  жен           40800.0   \n",
       "\n",
       "   возможная долгосрочность клиента  \n",
       "0                         -763750.0  \n",
       "1                          429200.0  \n",
       "2                        -1011375.0  \n",
       "3                          499800.0  "
      ]
     },
     "execution_count": 24,
     "metadata": {},
     "output_type": "execute_result"
    }
   ],
   "source": [
    "# Создать новый столбец возможная долгосрочность клиента = важность клиента * (средний возраст по датасету - возраст клиента)\n",
    "df['возможная долгосрочность клиента'] = df['важность клиента'] *(df['возраст'].mean() - df['возраст'])\n",
    "df"
   ]
  },
  {
   "cell_type": "markdown",
   "metadata": {
    "colab_type": "text",
    "id": "SxYDVNpYtnAp"
   },
   "source": [
    "## Задание 6\n",
    "\n",
    "Используя материалы блока Exploratory data analysis материалов 2го модуля вывести имена всех выживших детей (до 18 лет) и их количество\n",
    "\n",
    "Изначальный код:\n",
    "\n",
    "data = pd.read_csv('https://web.stanford.edu/class/archive/cs/cs109/cs109.1166/stuff/titanic.csv')\n",
    "\n",
    "data.head()"
   ]
  },
  {
   "cell_type": "code",
   "execution_count": 25,
   "metadata": {
    "colab": {
     "base_uri": "https://localhost:8080/",
     "height": 202
    },
    "colab_type": "code",
    "execution": {
     "iopub.execute_input": "2020-06-02T08:12:49.627Z",
     "iopub.status.busy": "2020-06-02T08:12:49.624Z",
     "iopub.status.idle": "2020-06-02T08:12:50.666Z",
     "shell.execute_reply": "2020-06-02T08:12:50.670Z"
    },
    "id": "LAwKsFvYtnFR",
    "outputId": "250563b0-0ea0-43c4-ee19-c7f15c518fb0"
   },
   "outputs": [
    {
     "data": {
      "text/html": [
       "<div>\n",
       "<style scoped>\n",
       "    .dataframe tbody tr th:only-of-type {\n",
       "        vertical-align: middle;\n",
       "    }\n",
       "\n",
       "    .dataframe tbody tr th {\n",
       "        vertical-align: top;\n",
       "    }\n",
       "\n",
       "    .dataframe thead th {\n",
       "        text-align: right;\n",
       "    }\n",
       "</style>\n",
       "<table border=\"1\" class=\"dataframe\">\n",
       "  <thead>\n",
       "    <tr style=\"text-align: right;\">\n",
       "      <th></th>\n",
       "      <th>Survived</th>\n",
       "      <th>Pclass</th>\n",
       "      <th>Name</th>\n",
       "      <th>Sex</th>\n",
       "      <th>Age</th>\n",
       "      <th>Siblings/Spouses Aboard</th>\n",
       "      <th>Parents/Children Aboard</th>\n",
       "      <th>Fare</th>\n",
       "    </tr>\n",
       "  </thead>\n",
       "  <tbody>\n",
       "    <tr>\n",
       "      <th>0</th>\n",
       "      <td>0</td>\n",
       "      <td>3</td>\n",
       "      <td>Mr. Owen Harris Braund</td>\n",
       "      <td>male</td>\n",
       "      <td>22.0</td>\n",
       "      <td>1</td>\n",
       "      <td>0</td>\n",
       "      <td>7.2500</td>\n",
       "    </tr>\n",
       "    <tr>\n",
       "      <th>1</th>\n",
       "      <td>1</td>\n",
       "      <td>1</td>\n",
       "      <td>Mrs. John Bradley (Florence Briggs Thayer) Cum...</td>\n",
       "      <td>female</td>\n",
       "      <td>38.0</td>\n",
       "      <td>1</td>\n",
       "      <td>0</td>\n",
       "      <td>71.2833</td>\n",
       "    </tr>\n",
       "    <tr>\n",
       "      <th>2</th>\n",
       "      <td>1</td>\n",
       "      <td>3</td>\n",
       "      <td>Miss. Laina Heikkinen</td>\n",
       "      <td>female</td>\n",
       "      <td>26.0</td>\n",
       "      <td>0</td>\n",
       "      <td>0</td>\n",
       "      <td>7.9250</td>\n",
       "    </tr>\n",
       "    <tr>\n",
       "      <th>3</th>\n",
       "      <td>1</td>\n",
       "      <td>1</td>\n",
       "      <td>Mrs. Jacques Heath (Lily May Peel) Futrelle</td>\n",
       "      <td>female</td>\n",
       "      <td>35.0</td>\n",
       "      <td>1</td>\n",
       "      <td>0</td>\n",
       "      <td>53.1000</td>\n",
       "    </tr>\n",
       "    <tr>\n",
       "      <th>4</th>\n",
       "      <td>0</td>\n",
       "      <td>3</td>\n",
       "      <td>Mr. William Henry Allen</td>\n",
       "      <td>male</td>\n",
       "      <td>35.0</td>\n",
       "      <td>0</td>\n",
       "      <td>0</td>\n",
       "      <td>8.0500</td>\n",
       "    </tr>\n",
       "  </tbody>\n",
       "</table>\n",
       "</div>"
      ],
      "text/plain": [
       "   Survived  Pclass                                               Name  \\\n",
       "0         0       3                             Mr. Owen Harris Braund   \n",
       "1         1       1  Mrs. John Bradley (Florence Briggs Thayer) Cum...   \n",
       "2         1       3                              Miss. Laina Heikkinen   \n",
       "3         1       1        Mrs. Jacques Heath (Lily May Peel) Futrelle   \n",
       "4         0       3                            Mr. William Henry Allen   \n",
       "\n",
       "      Sex   Age  Siblings/Spouses Aboard  Parents/Children Aboard     Fare  \n",
       "0    male  22.0                        1                        0   7.2500  \n",
       "1  female  38.0                        1                        0  71.2833  \n",
       "2  female  26.0                        0                        0   7.9250  \n",
       "3  female  35.0                        1                        0  53.1000  \n",
       "4    male  35.0                        0                        0   8.0500  "
      ]
     },
     "execution_count": 25,
     "metadata": {},
     "output_type": "execute_result"
    }
   ],
   "source": [
    "data = pd.read_csv('https://web.stanford.edu/class/archive/cs/cs109/cs109.1166/stuff/titanic.csv')\n",
    "\n",
    "data.head()"
   ]
  },
  {
   "cell_type": "code",
   "execution_count": 27,
   "metadata": {
    "colab": {},
    "colab_type": "code",
    "execution": {
     "iopub.execute_input": "2020-06-02T08:13:25.447Z",
     "iopub.status.busy": "2020-06-02T08:13:25.443Z",
     "iopub.status.idle": "2020-06-02T08:13:25.457Z",
     "shell.execute_reply": "2020-06-02T08:13:25.460Z"
    },
    "id": "6naKUP91uhqM",
    "outputId": "9c65a315-81f9-4002-8c79-f0f83cb4c1bb"
   },
   "outputs": [
    {
     "name": "stdout",
     "output_type": "stream",
     "text": [
      "Количество выживших детей равно 65\n"
     ]
    }
   ],
   "source": [
    "# отображаем количество выживших детей\n",
    "\n",
    "# ваш код тут\n",
    "quntity_children = data[(data['Survived'] == 1) & (data['Age'] < 18)]\n",
    "print(f'Количество выживших детей равно {len(quntity_children)}')"
   ]
  },
  {
   "cell_type": "code",
   "execution_count": 29,
   "metadata": {
    "colab": {},
    "colab_type": "code",
    "execution": {
     "iopub.execute_input": "2020-06-02T08:14:28.517Z",
     "iopub.status.busy": "2020-06-02T08:14:28.513Z",
     "iopub.status.idle": "2020-06-02T08:14:28.525Z",
     "shell.execute_reply": "2020-06-02T08:14:28.528Z"
    },
    "id": "EUsAbUlvHdeV",
    "jupyter": {
     "outputs_hidden": false,
     "source_hidden": false
    },
    "nteract": {
     "transient": {
      "deleting": false
     }
    },
    "outputId": "579c9d98-e7be-4c49-badf-4c537d6a6e5c"
   },
   "outputs": [
    {
     "data": {
      "text/html": [
       "<div>\n",
       "<style scoped>\n",
       "    .dataframe tbody tr th:only-of-type {\n",
       "        vertical-align: middle;\n",
       "    }\n",
       "\n",
       "    .dataframe tbody tr th {\n",
       "        vertical-align: top;\n",
       "    }\n",
       "\n",
       "    .dataframe thead th {\n",
       "        text-align: right;\n",
       "    }\n",
       "</style>\n",
       "<table border=\"1\" class=\"dataframe\">\n",
       "  <thead>\n",
       "    <tr style=\"text-align: right;\">\n",
       "      <th></th>\n",
       "      <th>Name</th>\n",
       "    </tr>\n",
       "  </thead>\n",
       "  <tbody>\n",
       "    <tr>\n",
       "      <th>9</th>\n",
       "      <td>Mrs. Nicholas (Adele Achem) Nasser</td>\n",
       "    </tr>\n",
       "    <tr>\n",
       "      <th>10</th>\n",
       "      <td>Miss. Marguerite Rut Sandstrom</td>\n",
       "    </tr>\n",
       "    <tr>\n",
       "      <th>22</th>\n",
       "      <td>Miss. Anna McGowan</td>\n",
       "    </tr>\n",
       "    <tr>\n",
       "      <th>39</th>\n",
       "      <td>Miss. Jamila Nicola-Yarred</td>\n",
       "    </tr>\n",
       "    <tr>\n",
       "      <th>42</th>\n",
       "      <td>Miss. Simonne Marie Anne Andree Laroche</td>\n",
       "    </tr>\n",
       "    <tr>\n",
       "      <th>...</th>\n",
       "      <td>...</td>\n",
       "    </tr>\n",
       "    <tr>\n",
       "      <th>826</th>\n",
       "      <td>Mrs. Antoni (Selini Alexander) Yasbeck</td>\n",
       "    </tr>\n",
       "    <tr>\n",
       "      <th>827</th>\n",
       "      <td>Master. George Sibley Richards</td>\n",
       "    </tr>\n",
       "    <tr>\n",
       "      <th>849</th>\n",
       "      <td>Miss. Mary Conover Lines</td>\n",
       "    </tr>\n",
       "    <tr>\n",
       "      <th>865</th>\n",
       "      <td>Master. Harold Theodor Johnson</td>\n",
       "    </tr>\n",
       "    <tr>\n",
       "      <th>871</th>\n",
       "      <td>Miss. Adele Kiamie Najib</td>\n",
       "    </tr>\n",
       "  </tbody>\n",
       "</table>\n",
       "<p>65 rows × 1 columns</p>\n",
       "</div>"
      ],
      "text/plain": [
       "                                        Name\n",
       "9         Mrs. Nicholas (Adele Achem) Nasser\n",
       "10            Miss. Marguerite Rut Sandstrom\n",
       "22                        Miss. Anna McGowan\n",
       "39                Miss. Jamila Nicola-Yarred\n",
       "42   Miss. Simonne Marie Anne Andree Laroche\n",
       "..                                       ...\n",
       "826   Mrs. Antoni (Selini Alexander) Yasbeck\n",
       "827           Master. George Sibley Richards\n",
       "849                 Miss. Mary Conover Lines\n",
       "865           Master. Harold Theodor Johnson\n",
       "871                 Miss. Adele Kiamie Najib\n",
       "\n",
       "[65 rows x 1 columns]"
      ]
     },
     "execution_count": 29,
     "metadata": {},
     "output_type": "execute_result"
    }
   ],
   "source": [
    "# отображаем их имена\n",
    "\n",
    "# ваш код тут\n",
    "# чтобы было чуть красивее сконвертируем серию в датафрейм\n",
    "quntity_children['Name'].to_frame()"
   ]
  },
  {
   "cell_type": "code",
   "execution_count": 0,
   "metadata": {
    "colab": {},
    "colab_type": "code",
    "id": "tsvq50YEHdeX",
    "jupyter": {
     "outputs_hidden": false,
     "source_hidden": false
    },
    "nteract": {
     "transient": {
      "deleting": false
     }
    }
   },
   "outputs": [],
   "source": []
  }
 ],
 "metadata": {
  "colab": {
   "collapsed_sections": [],
   "name": "задания_модуль2.ipynb",
   "provenance": []
  },
  "kernelspec": {
   "display_name": "Python 3",
   "language": "python",
   "name": "python3"
  },
  "language_info": {
   "codemirror_mode": {
    "name": "ipython",
    "version": 3
   },
   "file_extension": ".py",
   "mimetype": "text/x-python",
   "name": "python",
   "nbconvert_exporter": "python",
   "pygments_lexer": "ipython3",
   "version": "3.7.7"
  },
  "nteract": {
   "version": "0.23.3"
  }
 },
 "nbformat": 4,
 "nbformat_minor": 1
}
