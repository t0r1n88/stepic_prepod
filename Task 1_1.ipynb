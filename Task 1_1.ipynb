{
 "cells": [
  {
   "cell_type": "markdown",
   "metadata": {
    "colab_type": "text",
    "id": "rbNYXOjcCaAf",
    "nteract": {
     "transient": {
      "deleting": false
     }
    }
   },
   "source": [
    "# Важно!\n",
    "Придерживайтесь эталонного вывода в коде каждого задания, чтобы избежать расхождений в трактовках условий задания."
   ]
  },
  {
   "cell_type": "markdown",
   "metadata": {
    "colab_type": "text",
    "id": "AcA1aOz_tMep"
   },
   "source": [
    "## Задача 1\n",
    "\n",
    "Создать переменную a = 10, возвести значение в 3 степень и найти остаток от деления на 3."
   ]
  },
  {
   "cell_type": "code",
   "execution_count": 3,
   "metadata": {},
   "outputs": [],
   "source": [
    "# Для отображения всего вывода, а не только последнего значения в ячейке\n",
    "from IPython.core.interactiveshell import InteractiveShell\n",
    "InteractiveShell.ast_node_interactivity = \"all\""
   ]
  },
  {
   "cell_type": "code",
   "execution_count": 11,
   "metadata": {
    "colab": {},
    "colab_type": "code",
    "execution": {
     "iopub.execute_input": "2020-06-02T07:44:18.632Z",
     "iopub.status.busy": "2020-06-02T07:44:18.628Z",
     "iopub.status.idle": "2020-06-02T07:44:18.642Z",
     "shell.execute_reply": "2020-06-02T07:44:18.646Z"
    },
    "id": "TiGS6kFKtIFQ"
   },
   "outputs": [
    {
     "name": "stdout",
     "output_type": "stream",
     "text": [
      "a в 3 степени равно 1000\n",
      "Остаток от деления 1000 на 3 равен 1\n"
     ]
    }
   ],
   "source": [
    "a = 10\n",
    "# Возводим значение в 3 степень\n",
    "a = pow(a,3)\n",
    "print(f'a в 3 степени равно {a}')\n",
    "# находим остаток от деления\n",
    "print(f'Остаток от деления 1000 на 3 равен {a%3}')"
   ]
  },
  {
   "cell_type": "markdown",
   "metadata": {
    "colab_type": "text",
    "id": "PbqrQxjKtNNj"
   },
   "source": [
    "## Задача 2\n",
    "\n",
    "Найдите площадь круга с радиусом 1.23456.\n",
    "\n",
    "(Считаем π = 3.14)"
   ]
  },
  {
   "cell_type": "code",
   "execution_count": 13,
   "metadata": {
    "colab": {},
    "colab_type": "code",
    "execution": {
     "iopub.execute_input": "2020-06-02T07:44:36.483Z",
     "iopub.status.busy": "2020-06-02T07:44:36.480Z",
     "iopub.status.idle": "2020-06-02T07:44:36.489Z",
     "shell.execute_reply": "2020-06-02T07:44:36.491Z"
    },
    "id": "4PaFmY3FtNVz"
   },
   "outputs": [
    {
     "name": "stdout",
     "output_type": "stream",
     "text": [
      "Площадь круга с радиусом 1.23456 равна 4.785794555904\n"
     ]
    }
   ],
   "source": [
    "pi =3.14\n",
    "r = 1.23456\n",
    "# Площадь круга равна\n",
    "print(f'Площадь круга с радиусом 1.23456 равна {pi*pow(r,2)}')"
   ]
  },
  {
   "cell_type": "markdown",
   "metadata": {
    "colab_type": "text",
    "id": "JpGOohPWtNch"
   },
   "source": [
    "## Задача 3\n",
    "\n",
    "Найдите, истинно ли, что 2 в 10 степени больше 1000 при условии, что 4 в 7й степени меньше 8 в 5й.\n",
    "\n"
   ]
  },
  {
   "cell_type": "code",
   "execution_count": 14,
   "metadata": {
    "colab": {},
    "colab_type": "code",
    "execution": {
     "iopub.execute_input": "2020-06-02T07:45:38.843Z",
     "iopub.status.busy": "2020-06-02T07:45:38.841Z",
     "iopub.status.idle": "2020-06-02T07:45:38.852Z",
     "shell.execute_reply": "2020-06-02T07:45:38.855Z"
    },
    "id": "tUOVzpHrtNjT"
   },
   "outputs": [
    {
     "name": "stdout",
     "output_type": "stream",
     "text": [
      "True\n"
     ]
    }
   ],
   "source": [
    "if pow(4,7) < pow(8,5):\n",
    "    print(pow(2,10) > 1000)"
   ]
  },
  {
   "cell_type": "markdown",
   "metadata": {
    "colab_type": "text",
    "id": "8xTeQJz4tNqM"
   },
   "source": [
    "## Задача 4\n",
    "\n",
    "Мы принимаем целое число на ввод с клавиатуры (код предоставлен), вывести \"цена выше рынка\", если число выше 1200, \"цена ниже рыночной\", если число меньше 800 и \"все ок\" в остальных случаях.\n",
    "\n",
    "price = int(input('Введите цену товара: '))"
   ]
  },
  {
   "cell_type": "code",
   "execution_count": 17,
   "metadata": {
    "colab": {},
    "colab_type": "code",
    "execution": {
     "iopub.execute_input": "2020-06-02T07:50:24.208Z",
     "iopub.status.busy": "2020-06-02T07:50:24.206Z",
     "iopub.status.idle": "2020-06-02T07:50:31.739Z",
     "shell.execute_reply": "2020-06-02T07:50:31.747Z"
    },
    "id": "jmE7VLuItNwz"
   },
   "outputs": [
    {
     "name": "stdout",
     "output_type": "stream",
     "text": [
      "Введите цену товара: 900\n",
      "Все ОК\n"
     ]
    }
   ],
   "source": [
    "price = int(input('Введите цену товара: '))\n",
    "if price > 1200:\n",
    "    print('Цена выше рынка')\n",
    "elif price < 800:\n",
    "    print('Цена ниже рыночной')\n",
    "else:\n",
    "    print('Все ОК')\n"
   ]
  },
  {
   "cell_type": "markdown",
   "metadata": {
    "colab_type": "text",
    "id": "OoBU8ZITtN2o"
   },
   "source": [
    "## Задача 5\n",
    "\n",
    "Распечатайте с 4 по 8 символ фразы \"Привет мир!\" приведенные к верхнему регистру.\n",
    "\n",
    "Отсчет c 0, пробел тоже символ *\n"
   ]
  },
  {
   "cell_type": "code",
   "execution_count": 19,
   "metadata": {
    "colab": {},
    "colab_type": "code",
    "execution": {
     "iopub.execute_input": "2020-06-02T07:48:13.752Z",
     "iopub.status.busy": "2020-06-02T07:48:13.749Z",
     "iopub.status.idle": "2020-06-02T07:48:13.757Z",
     "shell.execute_reply": "2020-06-02T07:48:13.759Z"
    },
    "id": "1x7gxVH-tN8x"
   },
   "outputs": [
    {
     "name": "stdout",
     "output_type": "stream",
     "text": [
      "ЕТ М\n"
     ]
    }
   ],
   "source": [
    "phrase =\"Привет мир!\"\n",
    "print(phrase[4:8].upper())"
   ]
  },
  {
   "cell_type": "markdown",
   "metadata": {
    "colab_type": "text",
    "id": "vKmTHQYatOD_"
   },
   "source": [
    "## Задача 6\n",
    "\n",
    "Создайте переменную, которая хранит описание этой задачи как строку, разделите слова по пробелам и приведите к нижнему регистру."
   ]
  },
  {
   "cell_type": "code",
   "execution_count": 30,
   "metadata": {
    "colab": {},
    "colab_type": "code",
    "execution": {
     "iopub.execute_input": "2020-06-02T07:51:00.727Z",
     "iopub.status.busy": "2020-06-02T07:51:00.723Z",
     "iopub.status.idle": "2020-06-02T07:51:00.733Z",
     "shell.execute_reply": "2020-06-02T07:51:00.735Z"
    },
    "id": "JQRE7KPJtOJ9"
   },
   "outputs": [
    {
     "name": "stdout",
     "output_type": "stream",
     "text": [
      "['создайте', 'переменную,', 'которая', 'хранит', 'описание', 'этой', 'задачи', 'как', 'строку,', 'разделите', 'слова', 'по', 'пробелам', 'и', 'приведите', 'к', 'нижнему', 'регистру.']\n"
     ]
    }
   ],
   "source": [
    "bar = \"Создайте переменную, которая хранит описание этой задачи как строку, разделите слова по пробелам и приведите к нижнему регистру.\"\n",
    "list_bar = bar.split()\n",
    "# Приводим к нижнему регистру\n",
    "# С помощью map мы применяем анонимную функцию которая приводит каждый элемент списка list_bar к нижнему регистру.\n",
    "# Мы получаем объект map и чтобы отобразить его, нам нужно превратить его в список с помощью list\n",
    "print(list(map(lambda x:x.lower(),list_bar)))\n"
   ]
  },
  {
   "cell_type": "markdown",
   "metadata": {
    "colab_type": "text",
    "id": "hd1iSZtNtank"
   },
   "source": [
    "## Задание 7\n",
    "\n",
    "Напишите код, который проверяет, является ли переменная x строкой, и если да, то если в строке больше одного слова (слово--последовательность подряд идущих символов без пробелов), то выводит на экран количество слов в этой строке и сами слова в алфавитном порядке.\n",
    "\n",
    "Подсказка:\n",
    "Метод .sort() подходит и для сортировки слов"
   ]
  },
  {
   "cell_type": "code",
   "execution_count": 34,
   "metadata": {
    "colab": {},
    "colab_type": "code",
    "execution": {
     "iopub.execute_input": "2020-06-02T07:51:47.142Z",
     "iopub.status.busy": "2020-06-02T07:51:47.139Z",
     "iopub.status.idle": "2020-06-02T07:51:47.149Z",
     "shell.execute_reply": "2020-06-02T07:51:47.151Z"
    },
    "id": "-X9fE0hctaug"
   },
   "outputs": [
    {
     "name": "stdout",
     "output_type": "stream",
     "text": [
      "Количество слов в строке равно 3\n",
      "['hello', 'world', 'z']\n"
     ]
    }
   ],
   "source": [
    "x = 'z hello world'\n",
    "# ваш код тут\n",
    "# Проверка на тип переменной\n",
    "if type(x) is str:\n",
    "    # Создаем список который понадобится нам для проверки количества слов и сортировки\n",
    "    x_list = x.split()\n",
    "    # Проверяем длину строки\n",
    "    if len(x_list) > 1:\n",
    "        print(f'Количество слов в строке равно {len(x_list)}')\n",
    "        # Сортируем слова\n",
    "        x_list.sort()\n",
    "        print(f'{x_list}')"
   ]
  },
  {
   "cell_type": "markdown",
   "metadata": {
    "colab_type": "text",
    "id": "PL2Hcn1Hta2F"
   },
   "source": [
    "## Задание 8\n",
    "\n",
    "Напишите код, который все элементы массива x с **нечетными** индексами переставит в обратном порядке.\n",
    "\n",
    "Т.е. если x = [0, 1, 2, 3, 4, 5, 6, 7, 8, 9], то код должен получать [0, 9, 2, 7, 4, 5, 6, 3, 8, 1]"
   ]
  },
  {
   "cell_type": "code",
   "execution_count": 1,
   "metadata": {
    "colab": {},
    "colab_type": "code",
    "execution": {
     "iopub.execute_input": "2020-06-02T07:52:17.297Z",
     "iopub.status.busy": "2020-06-02T07:52:17.293Z",
     "iopub.status.idle": "2020-06-02T07:52:17.303Z",
     "shell.execute_reply": "2020-06-02T07:52:17.306Z"
    },
    "id": "4trHl8jvta88"
   },
   "outputs": [
    {
     "name": "stdout",
     "output_type": "stream",
     "text": [
      "[0, 9, 2, 7, 4, 5, 6, 3, 8, 1]\n"
     ]
    }
   ],
   "source": [
    "# Исходный массив\n",
    "x = [0, 1, 2, 3, 4, 5, 6, 7, 8, 9]\n",
    "# Заменяем каждый нечетный элемент в исходном массиве на обратный ему, полученный с помощью функции reversed\n",
    "x[1::2] = reversed(x[1::2])\n",
    "print(x)"
   ]
  },
  {
   "cell_type": "markdown",
   "metadata": {
    "colab_type": "text",
    "id": "kd-omME5tbDh"
   },
   "source": [
    "## Задание 9\n",
    "\n",
    "Напишите цикл, который выводит все числа от 0 до 500, делящиеся на 7, если в них есть цифра 8.\n",
    "\n",
    "*Подсказка*: переменную типа int можно привести к типу str:\n",
    "```\n",
    "x = 5\n",
    "y = str(x)\n",
    "```"
   ]
  },
  {
   "cell_type": "code",
   "execution_count": 36,
   "metadata": {
    "colab": {},
    "colab_type": "code",
    "execution": {
     "iopub.execute_input": "2020-06-02T07:52:35.814Z",
     "iopub.status.busy": "2020-06-02T07:52:35.812Z",
     "iopub.status.idle": "2020-06-02T07:52:35.821Z",
     "shell.execute_reply": "2020-06-02T07:52:35.824Z"
    },
    "id": "FJm8xpcYtbJm"
   },
   "outputs": [
    {
     "name": "stdout",
     "output_type": "stream",
     "text": [
      "28\n",
      "84\n",
      "98\n",
      "168\n",
      "182\n",
      "189\n",
      "238\n",
      "280\n",
      "287\n",
      "308\n",
      "378\n",
      "385\n",
      "448\n",
      "483\n"
     ]
    }
   ],
   "source": [
    "# Создаем цикл\n",
    "for i in range(500):\n",
    "    # проверяем на наличие цифры 8\n",
    "    if '8' in str(i):\n",
    "        # Печатаем число если оно делится на 7\n",
    "        if i % 7 == 0:\n",
    "            print(i)\n"
   ]
  },
  {
   "cell_type": "code",
   "execution_count": 0,
   "metadata": {
    "colab": {},
    "colab_type": "code",
    "id": "VT6gpiOgCaBY",
    "jupyter": {
     "outputs_hidden": false,
     "source_hidden": false
    },
    "nteract": {
     "transient": {
      "deleting": false
     }
    }
   },
   "outputs": [],
   "source": []
  }
 ],
 "metadata": {
  "colab": {
   "name": "задания_модуль1.ipynb",
   "provenance": []
  },
  "kernelspec": {
   "display_name": "Python 3",
   "language": "python",
   "name": "python3"
  },
  "language_info": {
   "codemirror_mode": {
    "name": "ipython",
    "version": 3
   },
   "file_extension": ".py",
   "mimetype": "text/x-python",
   "name": "python",
   "nbconvert_exporter": "python",
   "pygments_lexer": "ipython3",
   "version": "3.7.6"
  },
  "nteract": {
   "version": "0.23.3"
  }
 },
 "nbformat": 4,
 "nbformat_minor": 1
}
