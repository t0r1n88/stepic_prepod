{
  "nbformat": 4,
  "nbformat_minor": 0,
  "metadata": {
    "colab": {
      "name": "Домашнее задание, модуль 3.ipynb",
      "provenance": [],
      "collapsed_sections": [
        "OiUIfyfIblax"
      ],
      "toc_visible": true
    },
    "kernelspec": {
      "name": "python3",
      "display_name": "Python 3"
    }
  },
  "cells": [
    {
      "cell_type": "markdown",
      "metadata": {
        "id": "DXet1CQyV4xz",
        "colab_type": "text"
      },
      "source": [
        "# Информация по библиотеке SKLearn\n",
        "\n",
        "> Indented block\n",
        "\n"
      ]
    },
    {
      "cell_type": "code",
      "metadata": {
        "id": "gYVbzyBvXsFh",
        "colab_type": "code",
        "colab": {}
      },
      "source": [
        "import sklearn"
      ],
      "execution_count": 0,
      "outputs": []
    },
    {
      "cell_type": "markdown",
      "metadata": {
        "id": "caKs-r23WA2M",
        "colab_type": "text"
      },
      "source": [
        "Изученные нами модули SKLearn:"
      ]
    },
    {
      "cell_type": "markdown",
      "metadata": {
        "id": "wQ0QKEMfXxn3",
        "colab_type": "text"
      },
      "source": [
        "#### 1. sklearn.metrics: "
      ]
    },
    {
      "cell_type": "markdown",
      "metadata": {
        "id": "gfM4gS4VcQwu",
        "colab_type": "text"
      },
      "source": [
        "https://scikit-learn.org/stable/modules/classes.html\n",
        "\n",
        "\n",
        "модуль, где находятся множество метрик, используемых в задачах машинного обучения как для классификации, так и для регрессии:"
      ]
    },
    {
      "cell_type": "code",
      "metadata": {
        "id": "jBCKIN9nXfBt",
        "colab_type": "code",
        "colab": {}
      },
      "source": [
        "# вывод этой ячейки покажет все, что содержит модуль metrics\n",
        "sklearn.metrics.__dir__()"
      ],
      "execution_count": 0,
      "outputs": []
    },
    {
      "cell_type": "markdown",
      "metadata": {
        "id": "medL2R7scs-N",
        "colab_type": "text"
      },
      "source": [
        "Метрики обычно принимают два параметра -- вектор правильных ответов на данные и вектор предсказаний алгоритма, и выдают число -- значение метрики."
      ]
    },
    {
      "cell_type": "code",
      "metadata": {
        "id": "AXrfYrYKc8NR",
        "colab_type": "code",
        "colab": {}
      },
      "source": [
        "from sklearn.metrics import accuracy_score\n",
        "y_true = [1, 2, 3]\n",
        "y_pred = [1, 2, 5]\n",
        "accuracy_score(y_true, y_pred)"
      ],
      "execution_count": 0,
      "outputs": []
    },
    {
      "cell_type": "markdown",
      "metadata": {
        "id": "LUrR-1w-Xzby",
        "colab_type": "text"
      },
      "source": [
        "#### 2. sklearn.neighbors"
      ]
    },
    {
      "cell_type": "markdown",
      "metadata": {
        "id": "ZwSP82xacTPt",
        "colab_type": "text"
      },
      "source": [
        "Модуль, где находятся модели ближайших соседей для задач регрессии, так и для классификации. "
      ]
    },
    {
      "cell_type": "code",
      "metadata": {
        "id": "2ndoGtZRYawj",
        "colab_type": "code",
        "colab": {}
      },
      "source": [
        "# вывод этой ячейки покажет все, что содержит модуль neighbors\n",
        "sklearn.neighbors.__dir__()"
      ],
      "execution_count": 0,
      "outputs": []
    },
    {
      "cell_type": "markdown",
      "metadata": {
        "id": "hgqn1ttWYran",
        "colab_type": "text"
      },
      "source": [
        "Далее на курсе вы изучите еще несколько модулей, в которых будут находиться другие алгоритмы машинного обучения.\n"
      ]
    },
    {
      "cell_type": "markdown",
      "metadata": {
        "id": "PppfPSxoZ8V9",
        "colab_type": "text"
      },
      "source": [
        "#### 3. Структура моделей в SKLearn"
      ]
    },
    {
      "cell_type": "markdown",
      "metadata": {
        "id": "7wA4YEQxcWVA",
        "colab_type": "text"
      },
      "source": [
        "\n",
        "Все модели машинного обучения имеют одинаковую структуру в SKLearn."
      ]
    },
    {
      "cell_type": "code",
      "metadata": {
        "id": "niHWFX67ZIEn",
        "colab_type": "code",
        "colab": {}
      },
      "source": [
        "# импорт модели из модуля\n",
        "from sklearn.neighbors import KNeighborsClassifier\n",
        "# инициализация модели и задание гиперпараметров\n",
        "model = KNeighborsClassifier(n_neighbors=3)\n"
      ],
      "execution_count": 0,
      "outputs": []
    },
    {
      "cell_type": "markdown",
      "metadata": {
        "id": "d2Y-J13NZaqZ",
        "colab_type": "text"
      },
      "source": [
        "Обучение моделей в SKLearn осуществляется с помощью метода .fit(), который принимает ровно два аргумента: тренировочные данные и ответы к ним:"
      ]
    },
    {
      "cell_type": "code",
      "metadata": {
        "id": "1bNk0V6oZkev",
        "colab_type": "code",
        "colab": {}
      },
      "source": [
        "X_train = [\n",
        "           [1, 2, 3],\n",
        "           [4, 5, 3.6],\n",
        "           [0.5, 2, 4]\n",
        "]\n",
        "y_train = [1, 2, 1]\n",
        "model.fit(X_train, y_train)"
      ],
      "execution_count": 0,
      "outputs": []
    },
    {
      "cell_type": "markdown",
      "metadata": {
        "id": "-5NuOHkEZm8p",
        "colab_type": "text"
      },
      "source": [
        "Получение предсказаний модели в SKLearn осуществляется с помощью метода .predict():"
      ]
    },
    {
      "cell_type": "code",
      "metadata": {
        "id": "kH1_I5oWZuTc",
        "colab_type": "code",
        "colab": {}
      },
      "source": [
        "X_test = [\n",
        "          [1, 2, 3.5]\n",
        "]\n",
        "predicted = model.predict(X_test)\n",
        "predicted"
      ],
      "execution_count": 0,
      "outputs": []
    },
    {
      "cell_type": "markdown",
      "metadata": {
        "id": "cejoRHceZwTS",
        "colab_type": "text"
      },
      "source": [
        "Если выбранная модель решает задачу классификации (как, например, KNeighborsClassifier), то кроме метода .predict() у большинства моделей есть еще метод .predict_proba() для получения ответов не в виде меток классов, а в виде вероятностей принадлежности к классам.\n",
        "\n",
        "Если модель решает задачу классификации на n классов, то вывод model.predict_proba() вернет для каждого объекта n чисел -- вероятностей принадлежности объекта к каждому из n классов."
      ]
    },
    {
      "cell_type": "code",
      "metadata": {
        "id": "RRVd99rWazis",
        "colab_type": "code",
        "colab": {}
      },
      "source": [
        "X_test = [\n",
        "          [1, 2, 3.5]\n",
        "]\n",
        "predicted = model.predict_proba(X_test)\n",
        "predicted"
      ],
      "execution_count": 0,
      "outputs": []
    },
    {
      "cell_type": "markdown",
      "metadata": {
        "id": "WyuyZCK3a3Zd",
        "colab_type": "text"
      },
      "source": [
        "Если нужно взять из выданного .predict_proba() массива только вероятности одного класса, нужно просто взять нужный столбец numpy-массива, выданного .predict_proba():"
      ]
    },
    {
      "cell_type": "code",
      "metadata": {
        "id": "yT8BG2rpbDRx",
        "colab_type": "code",
        "colab": {}
      },
      "source": [
        "# вероятность принадлежности классу 0\n",
        "predicted[:, 0]"
      ],
      "execution_count": 0,
      "outputs": []
    },
    {
      "cell_type": "code",
      "metadata": {
        "id": "4QSTv8c1bLbv",
        "colab_type": "code",
        "colab": {}
      },
      "source": [
        "# вероятность принадлежности классу 1\n",
        "predicted[:, 1]"
      ],
      "execution_count": 0,
      "outputs": []
    },
    {
      "cell_type": "markdown",
      "metadata": {
        "id": "cjuuejsSbQv2",
        "colab_type": "text"
      },
      "source": [
        "У разных моделей SKLearn есть еще много разных методов, их для каждой модели можно посмотреть в документации. Например, документация для sklearn.neighbors.KNeighborsClassifier: <br>\n",
        "https://scikit-learn.org/stable/modules/generated/sklearn.neighbors.KNeighborsClassifier.html"
      ]
    },
    {
      "cell_type": "markdown",
      "metadata": {
        "id": "OiUIfyfIblax",
        "colab_type": "text"
      },
      "source": [
        "#### 4. sklearn.model_selection.train_test_split"
      ]
    },
    {
      "cell_type": "markdown",
      "metadata": {
        "id": "m-MtYZd8cZuS",
        "colab_type": "text"
      },
      "source": [
        "https://scikit-learn.org/stable/modules/generated/sklearn.model_selection.train_test_split.html\n",
        "\n",
        "Функция для деления датасета на две части так, чтобы распределения признаков в обоих частях были одинаковые. Используется для деления датасета на тренировочную и валидационную части."
      ]
    },
    {
      "cell_type": "markdown",
      "metadata": {
        "id": "iWV1neBjXtRW",
        "colab_type": "text"
      },
      "source": [
        "# Задание: Предсказание сердечно-сосудистых заболеваний"
      ]
    },
    {
      "cell_type": "code",
      "metadata": {
        "id": "Fm9RMqaCA9wL",
        "colab_type": "code",
        "colab": {}
      },
      "source": [
        "import numpy as np\n",
        "import pandas as pd\n",
        "import matplotlib.pyplot as plt\n",
        "% matplotlib inline\n",
        "\n",
        "from sklearn.neighbors import KNeighborsClassifier\n",
        "from sklearn.metrics import log_loss\n",
        "from sklearn.model_selection import train_test_split"
      ],
      "execution_count": 0,
      "outputs": []
    },
    {
      "cell_type": "markdown",
      "metadata": {
        "id": "iDm0_1UYBbxZ",
        "colab_type": "text"
      },
      "source": [
        "В этом задании мы будем решать задачу предсказания наличия у человека сердечно-сосудистых заболеваний по некоторым признакам человека. Это датасет с реальными данными людей, он использовался для соревнования по машинному обучению на платформе mlbootcamp: https://mlbootcamp.ru/round/12/sandbox/. Здесь же можно скачать датасет (для этого необходимо зарегистрироваться).\n",
        "\n",
        "Давайте посмотрим на датасет:"
      ]
    },
    {
      "cell_type": "code",
      "metadata": {
        "id": "RPB-GdXYBaY5",
        "colab_type": "code",
        "colab": {}
      },
      "source": [
        "# в этом csv файле в качестве разделителей использовалась точка с запятой, \n",
        "# не забудем указать это при вызове функции read_csv\n",
        "\n",
        "#Альтернативно: data = pd.read_csv(\"https://raw.githubusercontent.com/Yorko/mlcourse.ai/master/data/mlbootcamp5_train.csv\", sep=';')\n",
        "\n",
        "data = pd.read_csv(\"./ml5/train.csv\", sep=';')\n",
        "data.head()"
      ],
      "execution_count": 0,
      "outputs": []
    },
    {
      "cell_type": "markdown",
      "metadata": {
        "id": "4UxT_KstB_II",
        "colab_type": "text"
      },
      "source": [
        "В этом датасете данные о 70000 человек, о каждом из которых известно:\n",
        "\n",
        "- id человека (**id**)\n",
        "- возраст человека в днях (**age**)\n",
        "- пол (**gender**)\n",
        "- рост в сантиметрах (**height**)\n",
        "- вес в килограммах (**weight**)\n",
        "- верхнее артериальное давление (**ap_hi**)\n",
        "- нижнее артериальное давление (**ap_lo**)\n",
        "- показатель холестерина (**cholesterol**, 1, 2 или 3)\n",
        "- показатель глюкозы (**gluc**)\n",
        "- курит ли человек (**smoke**, 0--не курит, 1--курит)\n",
        "- употребляет ли человек алкоголь (**alco**, 0--нет, 1--да)\n",
        "- ведет ли активную жизнь (**active**)\n",
        "\n",
        "Целевая переменная: **cardio** -- наличие у человека сердечно-сосудистого заболевания. 1 -- есть, 0 -- нет."
      ]
    },
    {
      "cell_type": "code",
      "metadata": {
        "id": "1W9Pp6b5EUgj",
        "colab_type": "code",
        "colab": {}
      },
      "source": [
        "data.describe()"
      ],
      "execution_count": 0,
      "outputs": []
    },
    {
      "cell_type": "markdown",
      "metadata": {
        "id": "sTNmPyzFEHte",
        "colab_type": "text"
      },
      "source": [
        "## Часть 1. Предобработка датасета."
      ]
    },
    {
      "cell_type": "markdown",
      "metadata": {
        "id": "mLJV4KkNFOmA",
        "colab_type": "text"
      },
      "source": [
        "В этом датасете нет пропусков, так что заполнять NaN не требуется."
      ]
    },
    {
      "cell_type": "markdown",
      "metadata": {
        "id": "4JK_GLtJNUE7",
        "colab_type": "text"
      },
      "source": [
        "#### 1. Разделим данные и целевую переменную cardio."
      ]
    },
    {
      "cell_type": "markdown",
      "metadata": {
        "id": "QsDSYv46cf0h",
        "colab_type": "text"
      },
      "source": [
        "**Задание**:\n",
        "\n",
        "Поделите датасет data на данные (data) и целевую переменную (y):"
      ]
    },
    {
      "cell_type": "code",
      "metadata": {
        "id": "k_z2Np4cNaXS",
        "colab_type": "code",
        "colab": {}
      },
      "source": [
        "y = <тут ваш код>\n",
        "data = <тут ваш код>"
      ],
      "execution_count": 0,
      "outputs": []
    },
    {
      "cell_type": "code",
      "metadata": {
        "id": "U0Y7U1yL56lJ",
        "colab_type": "code",
        "colab": {}
      },
      "source": [
        "# не меняйте код в этой ячейке!\n",
        "# эта ячейка проверяет ваш код на правильность\n",
        "# если при запуске ячейка выдает ошибку, то у вас в коде ошибка\n",
        "\n",
        "assert y.shape == (70000,)\n",
        "assert set(data.columns) == set(['id', 'age', 'gender', 'height', 'weight', 'ap_hi', 'ap_lo', \n",
        "       'cholesterol', 'gluc', 'smoke', 'alco', 'active'])"
      ],
      "execution_count": 0,
      "outputs": []
    },
    {
      "cell_type": "markdown",
      "metadata": {
        "id": "b12iaIhPEb9y",
        "colab_type": "text"
      },
      "source": [
        "#### 2. Выкинем ненужные столбцы."
      ]
    },
    {
      "cell_type": "markdown",
      "metadata": {
        "id": "tEfaFMLVcicM",
        "colab_type": "text"
      },
      "source": [
        "В этом датасете, кажется, все признаки информативны, кроме одного -- id. Как и в Titanik, здесь id -- это просто последовательные числа, присвоенные людям при составлении датасета. Никакой информации они не несут. Давайте выкинем столбец id:\n",
        "\n",
        "**Задание**:\n",
        "\n",
        "Удалите из data колонку id"
      ]
    },
    {
      "cell_type": "code",
      "metadata": {
        "id": "Ajk3NIAbBt5U",
        "colab_type": "code",
        "colab": {}
      },
      "source": [
        "# оставьте в переменной data все столбцы, кроме id\n",
        "data = <тут ваш код>"
      ],
      "execution_count": 0,
      "outputs": []
    },
    {
      "cell_type": "code",
      "metadata": {
        "id": "IgDM7Ve1AUrk",
        "colab_type": "code",
        "colab": {}
      },
      "source": [
        "# не меняйте код в этой ячейке!\n",
        "# эта ячейка проверяет ваш код на правильность\n",
        "# если при запуске ячейка выдает ошибку, то у вас в коде ошибка\n",
        "\n",
        "assert set(data.columns) == set(['age', 'gender', 'height', 'weight', 'ap_hi', 'ap_lo', \n",
        "       'cholesterol', 'gluc', 'smoke', 'alco', 'active'])"
      ],
      "execution_count": 0,
      "outputs": []
    },
    {
      "cell_type": "markdown",
      "metadata": {
        "id": "6ul4ujNoFMf5",
        "colab_type": "text"
      },
      "source": [
        "#### 3. Посмотрим на то, какого типа колонки в датасете."
      ]
    },
    {
      "cell_type": "code",
      "metadata": {
        "id": "OjxE7l1pHw6G",
        "colab_type": "code",
        "colab": {}
      },
      "source": [
        "print(data.dtypes)"
      ],
      "execution_count": 0,
      "outputs": []
    },
    {
      "cell_type": "markdown",
      "metadata": {
        "id": "He_DMhFpHyiP",
        "colab_type": "text"
      },
      "source": [
        "Кажется, что все они числовые и категориальных признаков нет. Но давайте присмотримся: признак cholesterol содержит три вида значения: 1, 2 и 3. Они выражают три уровня холестерина. \n",
        "\n",
        "С одной стороны, между этими тремя уровнями есть связь: 3 > 2 > 1. C другой стороны, этот признак можно интерпретировать как категориальный и поделить его на три столбца.\n",
        "\n",
        "Как будет лучше для решения задачи, мы не знаем. Нужно пробовать разные варианты, чем и занимаются data scientists. Давайте создадим копию наших данных, в которых поделим колонку cholesterol на три колонки:\n",
        "\n",
        "**Задание**: \n",
        "\n",
        "Поделите колонку cholesterol на три колонки с помощью pd.get_dummies() и запишите полученный датасет в новую переменную data_ch:"
      ]
    },
    {
      "cell_type": "code",
      "metadata": {
        "id": "t4BwF4JtHxc0",
        "colab_type": "code",
        "colab": {}
      },
      "source": [
        "data_ch = <тут ваш код>"
      ],
      "execution_count": 0,
      "outputs": []
    },
    {
      "cell_type": "code",
      "metadata": {
        "id": "WXWo9JnAAeRz",
        "colab_type": "code",
        "colab": {}
      },
      "source": [
        "# не меняйте код в этой ячейке!\n",
        "# эта ячейка проверяет ваш код на правильность\n",
        "# если при запуске ячейка выдает ошибку, то у вас в коде ошибка\n",
        "\n",
        "assert set(data_ch.columns) == set(['age', 'gender', 'height', 'weight', 'ap_hi', 'ap_lo', 'gluc', 'smoke',\n",
        "       'alco', 'active', 'cholesterol_1', 'cholesterol_2', 'cholesterol_3'])"
      ],
      "execution_count": 0,
      "outputs": []
    },
    {
      "cell_type": "markdown",
      "metadata": {
        "id": "7MeYGWCQJ3Mn",
        "colab_type": "text"
      },
      "source": [
        "#### 4. Колонка Age"
      ]
    },
    {
      "cell_type": "markdown",
      "metadata": {
        "id": "QNgbto-0cmaD",
        "colab_type": "text"
      },
      "source": [
        "На лекции мы говорили о том, что если у разных признаков в датасете разные разбросы значений.  функция расстояния KNN -- евклидова, то один признак будет влиять на расстояние между объектами больше, чем другой. У нас в датасете есть признак Age, который измеряется десятками тысяч, в то время как остальные признаки измеряются в единицах или десятках. Давайте сделаем копии датасетов data и data_cholesterol, в которых переведем возраст людей из дней в годы. Перевод осуществим просто поделив колонку Age на 365.\n",
        "\n",
        "**Задание**:\n",
        "\n",
        "Для копий data_age и data_ch_age датасетов data и data_ch переведите их колонки age из дней в годы, поделив колонки на 365:"
      ]
    },
    {
      "cell_type": "code",
      "metadata": {
        "id": "au57paszJz90",
        "colab_type": "code",
        "colab": {}
      },
      "source": [
        "data_age = data.copy()\n",
        "data_ch_age = data_ch.copy()\n",
        "\n",
        "data_age[\"age\"] = <тут ваш код>\n",
        "data_ch_age[\"age\"] = <тут ваш код>"
      ],
      "execution_count": 0,
      "outputs": []
    },
    {
      "cell_type": "code",
      "metadata": {
        "id": "HG4hpy8qA48h",
        "colab_type": "code",
        "colab": {}
      },
      "source": [
        "# не меняйте код в этой ячейке!\n",
        "# эта ячейка проверяет ваш код на правильность\n",
        "# если при запуске ячейка выдает ошибку, то у вас в коде ошибка\n",
        "\n",
        "assert 64 < data_age[\"age\"].max() < 65 \n",
        "assert 30 > data_age[\"age\"].min() > 29\n",
        "assert 54 > data_age[\"age\"].mean() > 53"
      ],
      "execution_count": 0,
      "outputs": []
    },
    {
      "cell_type": "markdown",
      "metadata": {
        "id": "ecgIS4X1MFNT",
        "colab_type": "text"
      },
      "source": [
        "Отлично, теперь у нас есть четыре датасета:\n",
        "\n",
        "**data** -- изначальный датасет без колонки id <br>\n",
        "**data_ch** -- изначальный датасет без колонки id и обработанным признаком cholesterol <br>\n",
        "**data_age** -- изначальный датасет без колонки id и колонкой age, переведенной из дней в года <br>\n",
        "**data_ch_age** -- изначальный датасет без колонки id и обработанным признаком cholesterol и колонкой age, переведенной из дней в года"
      ]
    },
    {
      "cell_type": "markdown",
      "metadata": {
        "id": "AbxklkF5NIQ0",
        "colab_type": "text"
      },
      "source": [
        "Осталось разбить все данные на train и val. Давайте оставим под val 30% датасета:"
      ]
    },
    {
      "cell_type": "code",
      "metadata": {
        "id": "II1md3W0MAUt",
        "colab_type": "code",
        "colab": {}
      },
      "source": [
        "data_train, data_val, y_train, y_val = train_test_split(data, y, test_size=0.3)\n",
        "data_ch_train, data_ch_val, y_ch_train, y_ch_val = train_test_split(data_ch, y, test_size=0.3)\n",
        "data_age_train, data_age_val, y_age_train, y_age_val = train_test_split(data_age, y, test_size=0.3)\n",
        "data_ch_age_train, data_ch_age_val, y_ch_age_train, y_ch_age_val = train_test_split(data_ch_age, y, test_size=0.3)"
      ],
      "execution_count": 0,
      "outputs": []
    },
    {
      "cell_type": "markdown",
      "metadata": {
        "id": "ofQwAik1OMol",
        "colab_type": "text"
      },
      "source": [
        "## Часть 2. Обучение KNN"
      ]
    },
    {
      "cell_type": "markdown",
      "metadata": {
        "id": "SmuyyV70SKUb",
        "colab_type": "text"
      },
      "source": [
        "В качестве метрики качества для нашей задачи мы возьмем не accuracy, а log_loss: http://wiki.fast.ai/index.php/Log_Loss\n",
        "\n",
        "log_loss -- это метрика для бинарной классификации (для многоклассовой ее использовать нельзя). Она принимает на вход реальные метки класса в виде нулей и единиц и вероятности принадлежности элементов первому классу, выданные алгоритмом.\n",
        "\n",
        "В sklearn метрика log_loss определена в sklearn.metrics (как и accuracy и многие другие метрики). Чем log_loss ниже, тем ответы алгоритма \"лучше\" (в отличие от accuracy). "
      ]
    },
    {
      "cell_type": "markdown",
      "metadata": {
        "id": "0vLcxNj4Oi7Y",
        "colab_type": "text"
      },
      "source": [
        "**Задание**:\n",
        "\n",
        "Обучите KNN для k=3 на каждом из четырех полученных датасетов и проверьте каждую обученную модель на тесте для метрики log_loss. На каком датасете KNN с k=3 показал себя лучше всего?\n",
        "\n",
        "Обратите внимание, что для метрики log_loss ответы KNN должны быть в виде вероятностей принадлежности классу 1 (полученными с помощью .predict_proba), а не бинарными!"
      ]
    },
    {
      "cell_type": "code",
      "metadata": {
        "id": "93day0yEOLfi",
        "colab_type": "code",
        "colab": {}
      },
      "source": [
        "# обучаем КНН на тренировочной части data_train датасета data\n",
        "knn = <тут ваш код определения knn с _neighbors=3 на data_train>\n",
        "<тут ваш код обучения knn>\n",
        "\n",
        "# получаем ответы КНН на валидационной части data_val датасета data\n",
        "\n",
        "# predict_proba выдает массив пар -- для каждого объекта соответствующая пара \n",
        "# это вероятности его принадлежности к классу 0 и классу 1. \n",
        "# Чтобы получить только вероятности принадлежности классу 1, \n",
        "# нужно взять 1 столбец полученного numpy array: array[:, 1]\n",
        "predicted_proba = knn.predict_proba(data_val)[:, 1]\n",
        "log_loss(y_val, predicted_proba)"
      ],
      "execution_count": 0,
      "outputs": []
    },
    {
      "cell_type": "code",
      "metadata": {
        "id": "EEVQXJkNPPKq",
        "colab_type": "code",
        "colab": {}
      },
      "source": [
        "<повторите то же самое для остальных трех датасетов. Не забудтье кроме train_data менять также data_val в валидации.>"
      ],
      "execution_count": 0,
      "outputs": []
    },
    {
      "cell_type": "markdown",
      "metadata": {
        "id": "62X9If3EUh8l",
        "colab_type": "text"
      },
      "source": [
        "Мы видим, что во всех четырех случаях log_loss получился довольно большим. Давайте подберем гиперпараметр k, чтобы алгоритм лучше работал:"
      ]
    },
    {
      "cell_type": "markdown",
      "metadata": {
        "id": "8L1_KcLpP_Ju",
        "colab_type": "text"
      },
      "source": [
        "## Часть 3. Подбор параметра k"
      ]
    },
    {
      "cell_type": "markdown",
      "metadata": {
        "id": "KFhiHrgARTnx",
        "colab_type": "text"
      },
      "source": [
        "**Задание**:\n",
        "\n",
        "Для датасетов data_train и data_ch_age_train обучите KNN на тренировочных выборках и найдите значения log_loss на валидационных выборках для значений k от 1 до 20 и постройте график зависимости log_loss от k (как на практическом занятии). Свои выводы опишите ниже."
      ]
    },
    {
      "cell_type": "code",
      "metadata": {
        "id": "c7v19aThP7l-",
        "colab_type": "code",
        "colab": {}
      },
      "source": [
        "<тут ваш код для датасета data_train>"
      ],
      "execution_count": 0,
      "outputs": []
    },
    {
      "cell_type": "code",
      "metadata": {
        "id": "bKrL3bFIQdNE",
        "colab_type": "code",
        "colab": {}
      },
      "source": [
        "<тут ваш код для датасета data_ch_age_train>"
      ],
      "execution_count": 0,
      "outputs": []
    },
    {
      "cell_type": "markdown",
      "metadata": {
        "id": "xQ9KAVzIR18R",
        "colab_type": "text"
      },
      "source": [
        "Сделайте выводы -- как вы думаете, почему зависимость log_loss от k получилась такой?"
      ]
    },
    {
      "cell_type": "markdown",
      "metadata": {
        "id": "MujcsxC-SCuX",
        "colab_type": "text"
      },
      "source": [
        "<ваши выводы опишите здесь>"
      ]
    },
    {
      "cell_type": "markdown",
      "metadata": {
        "id": "1G5I7YRQS6L1",
        "colab_type": "text"
      },
      "source": [
        "P.S. Если вы посмотрите на лидерборд в соревновании к этому датасету, то увидите, что участники достигли значений log_loss гораздо меньших, чем получилось у нас. Но не переживайте -- мы особо не старались предобрабатывать датасет, и модель KNN -- одна из самых слабых в машинном обучении. В следующих модулях вы познакомитесь с более сильными моделями."
      ]
    },
    {
      "cell_type": "code",
      "metadata": {
        "id": "P8o_IV4NTOel",
        "colab_type": "code",
        "colab": {}
      },
      "source": [
        ""
      ],
      "execution_count": 0,
      "outputs": []
    }
  ]
}